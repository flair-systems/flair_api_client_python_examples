{
 "cells": [
  {
   "cell_type": "code",
   "execution_count": 49,
   "metadata": {
    "collapsed": false,
    "scrolled": true
   },
   "outputs": [
    {
     "data": {
      "image/png": "[encoded data removed]",
      "text/plain": [
       "<matplotlib.figure.Figure at 0x112ecf0b8>"
      ]
     },
     "metadata": {},
     "output_type": "display_data"
    }
   ],
   "source": [
    "%matplotlib inline\n",
    "\n",
    "import matplotlib\n",
    "import numpy as np\n",
    "import matplotlib.dates as mdate\n",
    "import matplotlib.pyplot as plt\n",
    "import matplotlib.lines as lines\n",
    "import matplotlib.transforms as mtransforms\n",
    "import matplotlib.text as mtext\n",
    "from flair_api import make_client, Resource\n",
    "from flair_api.client import ApiError\n",
    "from datetime import datetime\n",
    "\n",
    "CLIENT_ID = ''\n",
    "CLIENT_SECRET = ''\n",
    "API_ROOT = 'https://api.flair.co'\n",
    "\n",
    "class VentState(Resource):\n",
    "    @property\n",
    "    def name(self):\n",
    "        return 'Desired'\n",
    "    \n",
    "    @property\n",
    "    def x(self):\n",
    "        return datetime.strptime(\n",
    "            self.attributes['created-at'], \n",
    "            '%Y-%m-%dT%H:%M:%S.%f+00:00'\n",
    "        )\n",
    "        \n",
    "    @property\n",
    "    def y(self):\n",
    "        return self.attributes['percent-open']\n",
    "    \n",
    "class VentSensorReading(Resource):\n",
    "    @property\n",
    "    def name(self):\n",
    "        return 'Actual'\n",
    "    \n",
    "    @property\n",
    "    def x(self):\n",
    "        return datetime.strptime(\n",
    "            self.attributes['created-at'], \n",
    "            '%Y-%m-%dT%H:%M:%S.%f+00:00'\n",
    "        )\n",
    "    \n",
    "    @property\n",
    "    def y(self):\n",
    "        return self.attributes['percent-open']\n",
    "\n",
    "client = make_client(\n",
    "    CLIENT_ID, CLIENT_SECRET, API_ROOT,\n",
    "    mapper={\n",
    "        'vent-sensor-readings': VentSensorReading,\n",
    "        'vent-states': VentState\n",
    "    }\n",
    ") \n",
    "\n",
    "hours = mdate.HourLocator()\n",
    "minutes = mdate.MinuteLocator(interval=5)\n",
    "hoursfmt = mdate.DateFormatter(\"%H:%M\")\n",
    "major_ticks = np.arange(-15, 115, 15)    \n",
    "\n",
    "fig, ax = plt.subplots()\n",
    "ax.xaxis.set_major_locator(minutes)\n",
    "ax.xaxis.set_major_formatter(hoursfmt)\n",
    "ax.set_yticks(major_ticks)\n",
    "ax.set_ylim([-15,115])\n",
    "\n",
    "try:\n",
    "    structure = client.get(\"structures\", id=\"55\")\n",
    "\n",
    "    vents = structure.get_rel(\"vents\")\n",
    "\n",
    "    for vent in vents:\n",
    "        sensor_readings = vent.get_rel('sensor-readings')\n",
    "        states = vent.get_rel('vent-states')\n",
    "        current_state = vent.get_rel('current-state')\n",
    "        reading_x = [sr.x for sr in sensor_readings]\n",
    "        earliest_date = min(reading_x)\n",
    "        \n",
    "        ax.plot_date(\n",
    "            mdate.date2num(reading_x),\n",
    "            [sr.y for sr in sensor_readings],\n",
    "            linestyle='-',\n",
    "            marker=None,\n",
    "            alpha=0.5\n",
    "        )\n",
    "        state_times = [vs.x for vs in states\n",
    "                       if vs.x >= earliest_date]\n",
    "        if state_times:\n",
    "            add_current = [datetime.utcnow()]\n",
    "            data = [current_state.attributes['percent-open']]\n",
    "        else:\n",
    "            add_current = [earliest_date, datetime.utcnow()]\n",
    "            data = [current_state.attributes['percent-open'], current_state.attributes['percent-open']]\n",
    "            \n",
    "        ax.plot_date(\n",
    "            mdate.date2num(state_times + add_current),\n",
    "            [vs.y for vs in states\n",
    "             if vs.x >= earliest_date] + data,\n",
    "            linestyle='--',\n",
    "            marker=None\n",
    "        )\n",
    "\n",
    "\n",
    "except ApiError as e:\n",
    "    print(e.status_code)\n",
    "    print(e.json)\n",
    "    \n",
    "fig.autofmt_xdate()    \n",
    "plt.show()"
   ]
  },
  {
   "cell_type": "code",
   "execution_count": null,
   "metadata": {
    "collapsed": true
   },
   "outputs": [],
   "source": []
  },
  {
   "cell_type": "code",
   "execution_count": null,
   "metadata": {
    "collapsed": true
   },
   "outputs": [],
   "source": []
  }
 ],
 "metadata": {
  "kernelspec": {
   "display_name": "Python 3",
   "language": "python",
   "name": "python3"
  },
  "language_info": {
   "codemirror_mode": {
    "name": "ipython",
    "version": 3
   },
   "file_extension": ".py",
   "mimetype": "text/x-python",
   "name": "python",
   "nbconvert_exporter": "python",
   "pygments_lexer": "ipython3",
   "version": "3.5.2"
  }
 },
 "nbformat": 4,
 "nbformat_minor": 1
}
